{
 "cells": [
  {
   "cell_type": "code",
   "execution_count": 2,
   "id": "553cb632-734d-4fd7-9d0b-8f282bb2dd0a",
   "metadata": {},
   "outputs": [
    {
     "name": "stdout",
     "output_type": "stream",
     "text": [
      "Requirement already satisfied: openpyxl in /home/renku/work/.venv/lib/python3.13/site-packages (3.1.5)\n",
      "Requirement already satisfied: et-xmlfile in /home/renku/work/.venv/lib/python3.13/site-packages (from openpyxl) (2.0.0)\n"
     ]
    }
   ],
   "source": [
    "import pandas as pd\n",
    "import matplotlib.pyplot as plt\n",
    "import glob\n",
    "import os\n",
    "import re\n",
    "import json\n",
    "!pip install openpyxl"
   ]
  },
  {
   "cell_type": "code",
   "execution_count": 3,
   "id": "1e0317da-6173-45bc-a84a-eb32d81b34ec",
   "metadata": {},
   "outputs": [],
   "source": [
    "path_2024 = '../EDHD_Ch9_Dataset/EnergyDataHack_Data/swissGrid-dataset/Energy-overview-dataset/EnergieUebersichtCH-2024.xlsx'\n",
    "path_2025 = '../EDHD_Ch9_Dataset/EnergyDataHack_Data/swissGrid-dataset/Energy-overview-dataset/EnergieUebersichtCH-2025.xlsx'\n",
    "path_household = '../EDHD_Ch9_Dataset/EnergyDataHack_Data/edhd-optima-dataset/aew2/'"
   ]
  },
  {
   "cell_type": "code",
   "execution_count": 4,
   "id": "36e8df38-5755-4c30-b34c-0dd129768bd5",
   "metadata": {},
   "outputs": [],
   "source": [
    "df24 = pd.read_excel(path_2024, sheet_name=\"Zeitreihen0h15\" ,header=0,  skiprows=[1])\n",
    "df25 = pd.read_excel(path_2025, sheet_name=\"Zeitreihen0h15\", header=0,  skiprows=[1])\n",
    "df24.columns = df24.columns.str.split(\"Average\").str[0].str.strip()\n",
    "df25.columns = df25.columns.str.split(\"Average\").str[0].str.strip()\n",
    "df24 = df24.rename(columns={df24.columns[0]: \"Timestamp\"})\n",
    "df25 = df25.rename(columns={df25.columns[0]: \"Timestamp\"})\n",
    "\n",
    "\n",
    "extracted24 = df24[[\n",
    "    \"Timestamp\",\n",
    "    \"Durchschnittliche positive Sekundär-Regelenergie Preise\",\n",
    "    \"Durchschnittliche negative Sekundär-Regelenergie Preise\",\n",
    "    \"Durchschnittliche positive Tertiär-Regelenergie Preise\",\n",
    "    \"Durchschnittliche negative Tertiär-Regelenergie Preise\"\n",
    "]]\n",
    "\n",
    "extracted25 = df25[[\n",
    "    \"Timestamp\",\n",
    "    \"Durchschnittliche positive Sekundär-Regelenergie Preise\",\n",
    "    \"Durchschnittliche negative Sekundär-Regelenergie Preise\",\n",
    "    \"Durchschnittliche positive Tertiär-Regelenergie Preise\",\n",
    "    \"Durchschnittliche negative Tertiär-Regelenergie Preise\"\n",
    "]]\n",
    "\n"
   ]
  },
  {
   "cell_type": "code",
   "execution_count": 5,
   "id": "3d3ef513-f594-40ce-a574-d7ac09bd0217",
   "metadata": {},
   "outputs": [],
   "source": [
    "combined_df = pd.concat([extracted24, extracted25], ignore_index=True)\n",
    "# print (combined_df)\n",
    "\n",
    "# combined_df is the SRL/TRL Data."
   ]
  },
  {
   "cell_type": "code",
   "execution_count": null,
   "id": "1778a49b-f19d-4357-afc1-562951bd3b86",
   "metadata": {},
   "outputs": [],
   "source": [
    "plt.figure(figsize=(14,6))\n",
    "for col in combined_df.columns:\n",
    "    if col != \"Timestamp\":\n",
    "        plt.plot(combined_df[\"Timestamp\"], combined_df[col], label=col)\n",
    "\n",
    "plt.title(\"Sekundär- und Tertiär-Regelenergie Preise (Zeitreihe)\")\n",
    "plt.xlabel(\"Zeit\")\n",
    "plt.ylabel(\"Preis\")\n",
    "plt.legend()\n",
    "plt.grid(True)\n",
    "plt.tight_layout()\n",
    "plt.show()"
   ]
  },
  {
   "cell_type": "code",
   "execution_count": 6,
   "id": "6afd748d-6672-44b5-a180-676f771223d7",
   "metadata": {},
   "outputs": [
    {
     "name": "stdout",
     "output_type": "stream",
     "text": [
      "730\n",
      "{'DateTime': '2024-10-05 00:00:00+00:00', 'E1': 18843.912841796875, 'E3': 37572.0}\n"
     ]
    }
   ],
   "source": [
    "json_files = [pos_json for pos_json in os.listdir(path_household) if pos_json.endswith('.json')]\n",
    "print (len(json_files))\n",
    "data = []\n",
    "\n",
    "for file in json_files:\n",
    "    filepath = os.path.join(path_household, file)\n",
    "    with open(filepath, \"r\", encoding=\"utf-8\") as f:\n",
    "        content = json.load(f)\n",
    "\n",
    "    for entry in content[\"data\"]:\n",
    "\n",
    "        data.append({\n",
    "            \"DateTime\": entry[\"time\"],\n",
    "            \"E1\": entry.get(\"E1\"),\n",
    "            \"E3\": entry.get(\"E3\")\n",
    "        })\n",
    "\n",
    "\n",
    "print (data[0])\n"
   ]
  },
  {
   "cell_type": "code",
   "execution_count": null,
   "id": "31147395-7082-4bd1-810c-35391f4ac0e5",
   "metadata": {},
   "outputs": [],
   "source": []
  }
 ],
 "metadata": {
  "kernelspec": {
   "display_name": "Python3",
   "language": "python",
   "name": "python3"
  },
  "language_info": {
   "codemirror_mode": {
    "name": "ipython",
    "version": 3
   },
   "file_extension": ".py",
   "mimetype": "text/x-python",
   "name": "python",
   "nbconvert_exporter": "python",
   "pygments_lexer": "ipython3",
   "version": "3.13.1"
  }
 },
 "nbformat": 4,
 "nbformat_minor": 5
}
